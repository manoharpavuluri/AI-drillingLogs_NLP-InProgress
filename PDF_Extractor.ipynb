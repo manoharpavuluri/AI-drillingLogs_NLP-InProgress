{
  "nbformat": 4,
  "nbformat_minor": 0,
  "metadata": {
    "colab": {
      "provenance": [],
      "authorship_tag": "ABX9TyPsMt8/OoKsDv+xIFH9/jdH",
      "include_colab_link": true
    },
    "kernelspec": {
      "name": "python3",
      "display_name": "Python 3"
    },
    "language_info": {
      "name": "python"
    }
  },
  "cells": [
    {
      "cell_type": "markdown",
      "metadata": {
        "id": "view-in-github",
        "colab_type": "text"
      },
      "source": [
        "<a href=\"https://colab.research.google.com/github/manoharpavuluri/drillingLogs_NLP/blob/main/PDF_Extractor.ipynb\" target=\"_parent\"><img src=\"https://colab.research.google.com/assets/colab-badge.svg\" alt=\"Open In Colab\"/></a>"
      ]
    },
    {
      "cell_type": "code",
      "execution_count": 1,
      "metadata": {
        "colab": {
          "base_uri": "https://localhost:8080/"
        },
        "id": "XcJjmuNX1Tp9",
        "outputId": "9f9356d9-6d95-4c41-b9d2-c8016d4cd0c8"
      },
      "outputs": [
        {
          "output_type": "stream",
          "name": "stdout",
          "text": [
            "Collecting pdfplumber\n",
            "  Downloading pdfplumber-0.11.1-py3-none-any.whl (57 kB)\n",
            "\u001b[2K     \u001b[90m━━━━━━━━━━━━━━━━━━━━━━━━━━━━━━━━━━━━━━━━\u001b[0m \u001b[32m57.9/57.9 kB\u001b[0m \u001b[31m460.6 kB/s\u001b[0m eta \u001b[36m0:00:00\u001b[0m\n",
            "\u001b[?25hCollecting pdfminer.six==20231228 (from pdfplumber)\n",
            "  Downloading pdfminer.six-20231228-py3-none-any.whl (5.6 MB)\n",
            "\u001b[2K     \u001b[90m━━━━━━━━━━━━━━━━━━━━━━━━━━━━━━━━━━━━━━━━\u001b[0m \u001b[32m5.6/5.6 MB\u001b[0m \u001b[31m13.6 MB/s\u001b[0m eta \u001b[36m0:00:00\u001b[0m\n",
            "\u001b[?25hRequirement already satisfied: Pillow>=9.1 in /usr/local/lib/python3.10/dist-packages (from pdfplumber) (9.4.0)\n",
            "Collecting pypdfium2>=4.18.0 (from pdfplumber)\n",
            "  Downloading pypdfium2-4.30.0-py3-none-manylinux_2_17_x86_64.manylinux2014_x86_64.whl (2.8 MB)\n",
            "\u001b[2K     \u001b[90m━━━━━━━━━━━━━━━━━━━━━━━━━━━━━━━━━━━━━━━━\u001b[0m \u001b[32m2.8/2.8 MB\u001b[0m \u001b[31m17.7 MB/s\u001b[0m eta \u001b[36m0:00:00\u001b[0m\n",
            "\u001b[?25hRequirement already satisfied: charset-normalizer>=2.0.0 in /usr/local/lib/python3.10/dist-packages (from pdfminer.six==20231228->pdfplumber) (3.3.2)\n",
            "Requirement already satisfied: cryptography>=36.0.0 in /usr/local/lib/python3.10/dist-packages (from pdfminer.six==20231228->pdfplumber) (42.0.8)\n",
            "Requirement already satisfied: cffi>=1.12 in /usr/local/lib/python3.10/dist-packages (from cryptography>=36.0.0->pdfminer.six==20231228->pdfplumber) (1.16.0)\n",
            "Requirement already satisfied: pycparser in /usr/local/lib/python3.10/dist-packages (from cffi>=1.12->cryptography>=36.0.0->pdfminer.six==20231228->pdfplumber) (2.22)\n",
            "Installing collected packages: pypdfium2, pdfminer.six, pdfplumber\n",
            "Successfully installed pdfminer.six-20231228 pdfplumber-0.11.1 pypdfium2-4.30.0\n"
          ]
        }
      ],
      "source": [
        "pip install pdfplumber"
      ]
    },
    {
      "cell_type": "code",
      "source": [
        "import pdfplumber\n",
        "import pandas as pd\n",
        "import re\n",
        "import requests\n",
        "import zipfile\n",
        "import io\n",
        "\n"
      ],
      "metadata": {
        "id": "jw8iek6S1bN0"
      },
      "execution_count": 4,
      "outputs": []
    },
    {
      "cell_type": "code",
      "source": [
        "git_url = 'https://github.com/manoharpavuluri/drillingLogs_NLP/raw/main/5632DailyDrillingReports.zip'\n"
      ],
      "metadata": {
        "id": "5tkD87os7IVt"
      },
      "execution_count": 11,
      "outputs": []
    },
    {
      "cell_type": "code",
      "source": [
        "response = requests.get(git_url)\n",
        "response.raise_for_status()\n",
        "zip_file = zipfile.ZipFile(io.BytesIO(response.content))\n",
        "\n",
        "archive_file = zip_file.open('DailyReportDetailRpt_210304061249.pdf')\n",
        "file_page1 = pdfplumber.open(archive_file).pages[0]\n",
        "im1 = file_page1.to_image()\n",
        "im1"
      ],
      "metadata": {
        "colab": {
          "base_uri": "https://localhost:8080/",
          "height": 809
        },
        "id": "xGBEuNUe2YhG",
        "outputId": "3c762ec7-a9b2-40c4-8161-8c2d84484ea6"
      },
      "execution_count": 15,
      "outputs": [
        {
          "output_type": "execute_result",
          "data": {
            "text/plain": [
              "<pdfplumber.display.PageImage at 0x7d17f265b730>"
            ],
            "image/png": "[encoded data removed]"
          },
          "metadata": {},
          "execution_count": 15
        }
      ]
    },
    {
      "cell_type": "code",
      "source": [
        "text = file_page1.extract_text(keep_blank_chars=True)\n",
        "print(text)"
      ],
      "metadata": {
        "colab": {
          "base_uri": "https://localhost:8080/"
        },
        "id": "aBGHu3ci4NEW",
        "outputId": "0289b139-4e3d-4ba7-8528-a332d3ad9cff"
      },
      "execution_count": 17,
      "outputs": [
        {
          "output_type": "stream",
          "name": "stdout",
          "text": [
            "Daily Drilling Report Geothermal Resource Group, Inc.\n",
            "Well ID: Forge 56-32 Job ID: Original Well Name: 56-32\n",
            "Field: UTAHFORGE Sect: 32  Town: 26S  Rng: 9W  County: Beaver  State: UT\n",
            "Report No: 28 Report For 03-Mar-21\n",
            "Operator: University of Utah Rig: Frontier Spud Date: 08-Feb-21 Daily Cost / Mud ($): ---\n",
            "Measured Depth (ft): 9145 Last Casing: 5.500 at 9,105 Wellbore: Original Wellbore AFE No. AFE ($) Actual ($)\n",
            "Vertical Depth (ft): 9138 Next Casing: RKB Elevation (ft): 30.40 --- --- ---\n",
            "Proposed TD (ft): 9000 Last BOP Test: 12-Feb-21 Job Reference RKB (ft): 28.50 --- --- ---\n",
            "Hole Made (ft) / Hrs: 0 / 0.0 Next BOP Test: Working Interest: Totals: --- ---\n",
            "Average ROP (ft/hr): Job/Well Cost ($): ---\n",
            "Drilling Days (act./plan): 24/30 Flat Days (act./plan): 0/8 Total Days (act./plan): 24/38 Days On Location: 28\n",
            "Pers/Hrs: Operator: 2 / 24 Contractor: 14 / 168 Service: 3 / 28 Other: 0 / 0 Total: 19 / 220\n",
            "Safety Summary: No incidents or events reported. Conducted Safety Meeting.\n",
            "Current Operations: Waiting on cement and preparing for Top Squeeze and Top Fill cement job.\n",
            "Planned Operations: Perform \"Top Squeeze\" cement job for the 9-5/8\" X 5-1/2\" casing annulus.\n",
            "Toolpusher: Steve Caldwell, Vince Shaffer\n",
            "Wellsite Supervisors: Virgil Welch, Paul Stroud Tel No.: 7132807438\n",
            "Operations Summary\n",
            "From To Elapsed End MD(ft) Code Operations Description Non-Prod\n",
            "0:00 0:00 24.00 9,145 3-32 Waited on cement for \"Top Down\" cement job and tools for clean out.  Cut and laid\n",
            "down 25' of 5-1/2\" liner at KB level.  Removed flow line and check valve in kill line.\n",
            "Made preparations for Top Down cement job.\n",
            "Management Summary\n",
            "Made preparations for \"Top Squeeze/Top Fill\" cement job..\n",
            "Comments\n",
            "Received tools for cleaning out cement.  Partial load of 2-7/8\" drill pipe.\n",
            "Casing/Tubular Information\n",
            "Size Top MD Top TVD Bottom MD Bottom TVD Hole OH Diam. Nom. Wgt. Nominal LOT\n",
            "Type (ins) (ft) (ft) (ft) (ft) Section (ins) (lbs) Grade (lbs/gal)\n",
            "FULL 20.000 30 30 129 129 COND\n",
            "FULL 13.375 0 0 382 382 SURF 17.500 55 J-55 16.30\n",
            "FULL 9.625 0 0 3,494 3,488 INT1 12.250 36 J-55 16.00\n",
            "LINER 5.500 0 9,105\n",
            "Mud Information\n",
            "% Gels Temp Mud\n",
            "Dens. Vis PV YP Filt. Cake pH/ES Solids Oil Water Sand LGS Cl Ca CaCl 10s 10m 30m In Out Loss\n",
            "03-Mar-21 17:00  at Depth 9,145 ft  Mud Pits\n",
            "8.70 36\n",
            "Mud Consumables\n",
            "Item Description Qty. Cost Item Description Qty. Cost\n",
            "xanthan gum - OTHER 10 ---\n",
            "Rig Information\n",
            "Equipment Problems:\n",
            "Location Condition:\n",
            "Transport:\n",
            "WWSaataeftBere urt/ y lF/k  FlI unIlnuifdvoidser snmIn tHovaaretyuinolteondry\n",
            "Meetings/Drills Time Description\n",
            "Safety 60 Squeezing\n",
            "First Aid Treatments: Medical Treatments: Lost Time Incidents: Days Since LTI:\n",
            " BOP Test  Crownamatic Check\n",
            "Weather Information\n",
            "Sky Condition: Clear Visibility: 10\n",
            "Air Temperature: 23 degF Bar. Pressure: 30.1\n",
            "Wind Speed/Dir: 4 / SE Wind Gusts: 4\n",
            "Printed:  06:12  04-Mar-21 RIMBase 7.5.397.0 Page: 1 of 1\n"
          ]
        }
      ]
    },
    {
      "cell_type": "code",
      "source": [
        "core_pat = re.compile(r\"LOCATION[\\-\\s]+(.*)\\n\\s+Flags =e\", re.DOTALL)\n",
        "core = re.search(core_pat, text).group(1)\n",
        "print(core)\n"
      ],
      "metadata": {
        "colab": {
          "base_uri": "https://localhost:8080/",
          "height": 180
        },
        "id": "MgphnRr47J0o",
        "outputId": "b31c5156-fcc4-422a-8e15-217ee396370a"
      },
      "execution_count": 18,
      "outputs": [
        {
          "output_type": "error",
          "ename": "AttributeError",
          "evalue": "'NoneType' object has no attribute 'group'",
          "traceback": [
            "\u001b[0;31m---------------------------------------------------------------------------\u001b[0m",
            "\u001b[0;31mAttributeError\u001b[0m                            Traceback (most recent call last)",
            "\u001b[0;32m<ipython-input-18-975d11f07139>\u001b[0m in \u001b[0;36m<cell line: 2>\u001b[0;34m()\u001b[0m\n\u001b[1;32m      1\u001b[0m \u001b[0mcore_pat\u001b[0m \u001b[0;34m=\u001b[0m \u001b[0mre\u001b[0m\u001b[0;34m.\u001b[0m\u001b[0mcompile\u001b[0m\u001b[0;34m(\u001b[0m\u001b[0;34mr\"LOCATION[\\-\\s]+(.*)\\n\\s+Flags =e\"\u001b[0m\u001b[0;34m,\u001b[0m \u001b[0mre\u001b[0m\u001b[0;34m.\u001b[0m\u001b[0mDOTALL\u001b[0m\u001b[0;34m)\u001b[0m\u001b[0;34m\u001b[0m\u001b[0;34m\u001b[0m\u001b[0m\n\u001b[0;32m----> 2\u001b[0;31m \u001b[0mcore\u001b[0m \u001b[0;34m=\u001b[0m \u001b[0mre\u001b[0m\u001b[0;34m.\u001b[0m\u001b[0msearch\u001b[0m\u001b[0;34m(\u001b[0m\u001b[0mcore_pat\u001b[0m\u001b[0;34m,\u001b[0m \u001b[0mtext\u001b[0m\u001b[0;34m)\u001b[0m\u001b[0;34m.\u001b[0m\u001b[0mgroup\u001b[0m\u001b[0;34m(\u001b[0m\u001b[0;36m1\u001b[0m\u001b[0;34m)\u001b[0m\u001b[0;34m\u001b[0m\u001b[0;34m\u001b[0m\u001b[0m\n\u001b[0m\u001b[1;32m      3\u001b[0m \u001b[0mprint\u001b[0m\u001b[0;34m(\u001b[0m\u001b[0mcore\u001b[0m\u001b[0;34m)\u001b[0m\u001b[0;34m\u001b[0m\u001b[0;34m\u001b[0m\u001b[0m\n",
            "\u001b[0;31mAttributeError\u001b[0m: 'NoneType' object has no attribute 'group'"
          ]
        }
      ]
    },
    {
      "cell_type": "code",
      "source": [],
      "metadata": {
        "id": "sYvtYVE0AHI6"
      },
      "execution_count": null,
      "outputs": []
    }
  ]
}